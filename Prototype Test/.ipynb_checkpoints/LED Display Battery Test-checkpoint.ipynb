{
 "cells": [
  {
   "cell_type": "markdown",
   "metadata": {},
   "source": [
    "<img src=\"Images/Ballenas_logo.jpg\">\n",
    "# BSS Cube Satellite Payload: Environmental Data\n",
    "This notebook displays data collected from one of the Raspberry Pi 3 Model B's. This pi will be running the computational program and collecting environmental data from the pihat.  "
   ]
  },
  {
   "cell_type": "code",
   "execution_count": 3,
   "metadata": {
    "collapsed": true
   },
   "outputs": [],
   "source": [
    "#import of libraries.\n",
    "#this cell must be ran each time the notebook is started.\n",
    "import pandas as pd\n",
    "import numpy as np\n",
    "from IPython.display import set_matplotlib_formats\n",
    "import matplotlib.pyplot as plt\n",
    "%matplotlib inline\n",
    "from mpl_toolkits.mplot3d import Axes3D"
   ]
  },
  {
   "cell_type": "markdown",
   "metadata": {},
   "source": [
    "## Static Test\n",
    "This static test will be compared to the data we collect during the rocket flight. \n",
    "#### Description of Computational Program\n",
    "To meet the desires of the science team, software devised a new computational program that would calculate a set equation while printing the time it took to calculate each time. The equation used is 'x^2' where x increases by 1 each time. The data will write to a single file, then after five minutes, it will begin writing to a new file. "
   ]
  },
  {
   "cell_type": "code",
   "execution_count": 4,
   "metadata": {
    "collapsed": true
   },
   "outputs": [],
   "source": [
    "# these next fews cells imports the following datafiles from the computational program\n",
    "data0 = pd.read_csv('Datafiles/CompStatic/calcresults0.txt')\n",
    "#data0.info()\n",
    "data1 = pd.read_csv('Datafiles/CompStatic/calcresults1.txt')\n",
    "#data3.info()\n",
    "data2 = pd.read_csv('Datafiles/CompStatic/calcresults2.txt')\n",
    "#data2.info()"
   ]
  },
  {
   "cell_type": "code",
   "execution_count": 5,
   "metadata": {},
   "outputs": [
    {
     "name": "stdout",
     "output_type": "stream",
     "text": [
      "<class 'pandas.core.frame.DataFrame'>\n",
      "Int64Index: 3158320 entries, 0 to 1052084\n",
      "Data columns (total 3 columns):\n",
      "iteration    int64\n",
      "time         float64\n",
      "result       int64\n",
      "dtypes: float64(1), int64(2)\n",
      "memory usage: 96.4 MB\n"
     ]
    }
   ],
   "source": [
    "datastatic = pd.concat([data0, data1, data2]) # this will combine the three datafiles into one\n",
    "datastatic.info()\n",
    "iterationstatic = datastatic['iteration'] # assign data to a variable to be called up later\n",
    "timestatic = datastatic['time']\n",
    "resultstatic = datastatic['result']"
   ]
  },
  {
   "cell_type": "code",
   "execution_count": 6,
   "metadata": {},
   "outputs": [
    {
     "data": {
      "text/plain": [
       "[<matplotlib.lines.Line2D at 0x1ea409c0e48>]"
      ]
     },
     "execution_count": 6,
     "metadata": {},
     "output_type": "execute_result"
    },
    {
     "data": {
      "image/png": "[encoded data removed]",
      "text/plain": [
       "<matplotlib.figure.Figure at 0x1ea409c0eb8>"
      ]
     },
     "metadata": {},
     "output_type": "display_data"
    }
   ],
   "source": [
    "#this cell plots the data as the result as a function of the iteration\n",
    "plt.xlabel('Iteration')\n",
    "plt.ylabel('Result')\n",
    "plt.title('Result vs Iteration')\n",
    "plt.plot(iterationstatic, resultstatic)"
   ]
  },
  {
   "cell_type": "code",
   "execution_count": 5,
   "metadata": {},
   "outputs": [
    {
     "name": "stdout",
     "output_type": "stream",
     "text": [
      "Correct\n"
     ]
    }
   ],
   "source": [
    "# will determine if the program properly calculated the equation by finding the last result and last iteration in the datafile\n",
    "# and squaring the iteration to see if it equals the result\n",
    "maxRs = max(resultstatic)\n",
    "maxIs = max(iterationstatic)\n",
    "maxTs = max(timestatic)\n",
    "if max(resultstatic) == (max(iterationstatic)**2):\n",
    "    print('Correct')\n",
    "else:\n",
    "    print('Program didnt properly calculate the equation')"
   ]
  },
  {
   "cell_type": "code",
   "execution_count": 7,
   "metadata": {},
   "outputs": [
    {
     "name": "stdout",
     "output_type": "stream",
     "text": [
      "It took 624.556020975 seconds or 10.4092670163 minutes to calculate 305291 iterations.\n"
     ]
    }
   ],
   "source": [
    "# finding the time it took the program to write the amount of iterations\n",
    "maxmins = maxTs/60\n",
    "print('It took',maxTs,'seconds or',maxmins,'minutes to calculate', maxIs,'iterations.')"
   ]
  },
  {
   "cell_type": "markdown",
   "metadata": {},
   "source": [
    "## Computational Program Analysis\n",
    "The cells below will upload the files and analyze the data collected while also comparing it to the static test."
   ]
  },
  {
   "cell_type": "code",
   "execution_count": 7,
   "metadata": {
    "collapsed": true
   },
   "outputs": [],
   "source": [
    "# these next fews cells imports the following datafiles from the computational program\n",
    "\n",
    "data3 = pd.read_csv('Softlights+Comp_data/calcresults3.txt')\n",
    "#data3.info()\n",
    "\n",
    "data4 = pd.read_csv('Softlights+Comp_data/calcresults4.txt')\n",
    "#data4.info()\n",
    "\n",
    "data5 = pd.read_csv('Softlights+Comp_data/calcresults5.txt')\n",
    "#data5.info()\n",
    "\n",
    "data6 = pd.read_csv('Softlights+Comp_data/calcresults6.txt')\n",
    "#data6.info()\n",
    "\n",
    "data7 = pd.read_csv('Softlights+Comp_data/calcresults7.txt')\n",
    "#data7.info()\n",
    "\n",
    "data8 = pd.read_csv('Softlights+Comp_data/calcresults8.txt')\n",
    "#data8.info()\n",
    "\n",
    "data9 = pd.read_csv('Softlights+Comp_data/calcresults9.txt')\n",
    "#data9.info()\n",
    "\n",
    "data10 = pd.read_csv('Softlights+Comp_data/calcresults10.txt')\n",
    "#data10.info()\n",
    "\n",
    "data11 = pd.read_csv('Softlights+Comp_data/calcresults11.txt')\n",
    "#data11.info()\n",
    "\n",
    "data12 = pd.read_csv('Softlights+Comp_data/calcresults12.txt')\n",
    "#data12.info()\n",
    "\n",
    "data13 = pd.read_csv('Softlights+Comp_data/calcresults13.txt')\n",
    "#data13.info()\n",
    "\n",
    "data14 = pd.read_csv('Softlights+Comp_data/calcresults14.txt')\n",
    "#data14.info()\n",
    "\n",
    "data15 = pd.read_csv('Softlights+Comp_data/calcresults15.txt')\n",
    "#data15.info()\n",
    "\n",
    "data16 = pd.read_csv('Softlights+Comp_data/calcresults16.txt')\n",
    "#data16.info()\n",
    "\n",
    "data17 = pd.read_csv('Softlights+Comp_data/calcresults17.txt')\n",
    "#data17.info()\n",
    "\n",
    "data18 = pd.read_csv('Softlights+Comp_data/calcresults18.txt')\n",
    "#data18.info()\n",
    "\n",
    "data19 = pd.read_csv('Softlights+Comp_data/calcresults19.txt')\n",
    "#data19.info()\n",
    "\n",
    "data20 = pd.read_csv('Softlights+Comp_data/calcresults20.txt')\n",
    "#data20.info()\n",
    "\n",
    "data21 = pd.read_csv('Softlights+Comp_data/calcresults21.txt')\n",
    "#data21.info()\n",
    "\n",
    "data22 = pd.read_csv('Softlights+Comp_data/calcresults22.txt')\n",
    "#data22.info()\n",
    "\n",
    "data23 = pd.read_csv('Softlights+Comp_data/calcresults23.txt')\n",
    "#data23.info()\n",
    "\n",
    "data24 = pd.read_csv('Softlights+Comp_data/calcresults24.txt')\n",
    "#data24.info()\n",
    "\n",
    "data25 = pd.read_csv('Softlights+Comp_data/calcresults25.txt')\n",
    "#data25.info()\n",
    "\n",
    "data26 = pd.read_csv('Softlights+Comp_data/calcresults26.txt')\n",
    "#data26.info()\n",
    "\n",
    "data27 = pd.read_csv('Softlights+Comp_data/calcresults27.txt')\n",
    "#data27.info()\n",
    "\n",
    "data28 = pd.read_csv('Softlights+Comp_data/calcresults28.txt')\n",
    "#data28.info()\n",
    "\n",
    "data29 = pd.read_csv('Softlights+Comp_data/calcresults29.txt')\n",
    "#data29.info()\n",
    "\n",
    "data30 = pd.read_csv('Softlights+Comp_data/calcresults30.txt')\n",
    "#data30.info()\n",
    "\n",
    "data31 = pd.read_csv('Softlights+Comp_data/calcresults31.txt')\n",
    "#data31.info()\n",
    "\n",
    "data32 = pd.read_csv('Softlights+Comp_data/calcresults32.txt')\n",
    "#data32.info()\n",
    "\n",
    "data33 = pd.read_csv('Softlights+Comp_data/calcresults33.txt')\n",
    "#data33.info()"
   ]
  },
  {
   "cell_type": "code",
   "execution_count": 9,
   "metadata": {},
   "outputs": [
    {
     "name": "stdout",
     "output_type": "stream",
     "text": [
      "<class 'pandas.core.frame.DataFrame'>\n",
      "Int64Index: 32991983 entries, 0 to 584611\n",
      "Data columns (total 3 columns):\n",
      "iteration    int64\n",
      "time         float64\n",
      "result       float64\n",
      "dtypes: float64(2), int64(1)\n",
      "memory usage: 1006.8 MB\n"
     ]
    }
   ],
   "source": [
    "# this will combine all the datafiles into one\n",
    "dataC = pd.concat([data3, data4, data5, data6, data7, data8, data9, data10, data11, data12, data13, data14, data15, data16, data17, data18, data19, data20, data21, data22, data23, data24, data25, data26, data27, data28, data29, data30, data31, data32, data33]) \n",
    "dataC.info()\n",
    "iteration = dataC['iteration'] # assign data to a variable to be called up later\n",
    "timeC = dataC['time']\n",
    "result = dataC['result']"
   ]
  },
  {
   "cell_type": "code",
   "execution_count": 13,
   "metadata": {},
   "outputs": [
    {
     "data": {
      "text/plain": [
       "[<matplotlib.lines.Line2D at 0x2a08bd5a080>]"
      ]
     },
     "execution_count": 13,
     "metadata": {},
     "output_type": "execute_result"
    },
    {
     "data": {
      "image/png": "[encoded data removed]",
      "text/plain": [
       "<matplotlib.figure.Figure at 0x2a08bd5af98>"
      ]
     },
     "metadata": {},
     "output_type": "display_data"
    }
   ],
   "source": [
    "#this cell plots the data as the result as a function of the iteration\n",
    "plt.xlabel('Iteration')\n",
    "plt.ylabel('Result')\n",
    "plt.title('Result vs Iteration')\n",
    "plt.plot(iteration, result)"
   ]
  },
  {
   "cell_type": "code",
   "execution_count": 20,
   "metadata": {},
   "outputs": [
    {
     "data": {
      "text/plain": [
       "[<matplotlib.lines.Line2D at 0x2a092ab16a0>]"
      ]
     },
     "execution_count": 20,
     "metadata": {},
     "output_type": "execute_result"
    },
    {
     "data": {
      "image/png": "[encoded data removed]",
      "text/plain": [
       "<matplotlib.figure.Figure at 0x2a08d6cb860>"
      ]
     },
     "metadata": {},
     "output_type": "display_data"
    }
   ],
   "source": [
    "plt.plot(timeC, result)"
   ]
  },
  {
   "cell_type": "code",
   "execution_count": 19,
   "metadata": {},
   "outputs": [
    {
     "name": "stdout",
     "output_type": "stream",
     "text": [
      "Correct\n"
     ]
    }
   ],
   "source": [
    "# will determine if the program properly calculated the equation by finding the last result and last iteration in the datafile\n",
    "# and squaring the iteration to see if it equals the result\n",
    "maxR = max(result)\n",
    "maxI = max(iteration)\n",
    "maxT = max(timeC)\n",
    "if max(result) == (max(iteration-1)**2):\n",
    "    print('Correct')\n",
    "else:\n",
    "    print('Program didnt properly calculate the equation')"
   ]
  },
  {
   "cell_type": "code",
   "execution_count": 16,
   "metadata": {},
   "outputs": [
    {
     "name": "stdout",
     "output_type": "stream",
     "text": [
      "It took 9221.75100517 seconds or 153.695850086 minutes to calculate 32991982 iterations.\n"
     ]
    }
   ],
   "source": [
    "# finding the time it took the program to write the amount of iterations\n",
    "maxmin = maxT/60\n",
    "print('It took',maxT,'seconds or',maxmin,'minutes to calculate', maxI,'iterations.')"
   ]
  },
  {
   "cell_type": "code",
   "execution_count": null,
   "metadata": {
    "collapsed": true
   },
   "outputs": [],
   "source": [
    "# calculate the time it took to write each calculation\n",
    "# find the max. and min. it took to write and compare them to determine if there are is a large discrepancy between them"
   ]
  }
 ],
 "metadata": {
  "kernelspec": {
   "display_name": "Python 3",
   "language": "python",
   "name": "python3"
  },
  "language_info": {
   "codemirror_mode": {
    "name": "ipython",
    "version": 3
   },
   "file_extension": ".py",
   "mimetype": "text/x-python",
   "name": "python",
   "nbconvert_exporter": "python",
   "pygments_lexer": "ipython3",
   "version": "3.6.3"
  }
 },
 "nbformat": 4,
 "nbformat_minor": 2
}
